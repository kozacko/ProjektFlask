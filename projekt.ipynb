{
 "cells": [
  {
   "cell_type": "markdown",
   "id": "1345f0ce",
   "metadata": {},
   "source": [
    "base.html"
   ]
  },
  {
   "cell_type": "code",
   "execution_count": null,
   "id": "e2d1016f",
   "metadata": {
    "vscode": {
     "languageId": "html"
    }
   },
   "outputs": [],
   "source": [
    "<!DOCTYPE html>\n",
    "<html>\n",
    "<head>\n",
    "    <title>Projekt Flask</title>\n",
    "    <link rel=\"stylesheet\" href=\"https://cdn.simplecss.org/simple.min.css\">\n",
    "</head>\n",
    "<body>\n",
    "    <header>\n",
    "        <h1>Analiza danych</h1>\n",
    "        {% if current_user.is_authenticated %}\n",
    "        <p>Zalogowany jako {{ current_user.username }} | <a href=\"{{ url_for('main.logout') }}\">Wyloguj</a></p>\n",
    "        {% endif %}\n",
    "    </header>\n",
    "    <main>\n",
    "        {% block content %}{% endblock %}\n",
    "    </main>\n",
    "</body>\n",
    "</html>\n"
   ]
  },
  {
   "cell_type": "markdown",
   "id": "39892a68",
   "metadata": {},
   "source": [
    "dashboard.html"
   ]
  },
  {
   "cell_type": "code",
   "execution_count": null,
   "id": "6cb1090f",
   "metadata": {
    "vscode": {
     "languageId": "html"
    }
   },
   "outputs": [],
   "source": [
    "{% extends 'base.html' %}\n",
    "{% block content %}\n",
    "<h2>Witaj, {{ name }}!</h2>\n",
    "<p>Poniżej znajduje się analiza danych:</p>\n",
    "<img src=\"{{ url_for('static', filename='plot.png') }}\" alt=\"Wykres analizy\">\n",
    "<div class=\"card\">\n",
    "  <h3>Liczba ludności w Polsce (2015–2020)</h3>\n",
    "  <img src=\"{{ url_for('static', filename='forecast.png') }}\" alt=\"Wykres ludności\" style=\"max-width:100%;\">\n",
    "</div>\n",
    "{% endblock %}\n"
   ]
  },
  {
   "cell_type": "markdown",
   "id": "d4f8c583",
   "metadata": {},
   "source": [
    "login.html"
   ]
  },
  {
   "cell_type": "code",
   "execution_count": null,
   "id": "30acadc3",
   "metadata": {
    "vscode": {
     "languageId": "html"
    }
   },
   "outputs": [],
   "source": [
    "{% extends 'base.html' %}\n",
    "\n",
    "{% block content %}\n",
    "\n",
    "{% with messages = get_flashed_messages(with_categories=true) %}\n",
    "  {% if messages %}\n",
    "    {% for category, message in messages %}\n",
    "      <div class=\"alert alert-{{ category }}\">\n",
    "        {{ message }}\n",
    "      </div>\n",
    "    {% endfor %}\n",
    "  {% endif %}\n",
    "{% endwith %}\n",
    "\n",
    "\n",
    "<h2>Logowanie</h2>\n",
    "<form method=\"POST\">\n",
    "    {{ form.hidden_tag() }}\n",
    "    <p>\n",
    "        {{ form.username.label }}<br>\n",
    "        {{ form.username(size=32) }}\n",
    "    </p>\n",
    "    <p>\n",
    "        {{ form.password.label }}<br>\n",
    "        {{ form.password(size=32) }}\n",
    "    </p>\n",
    "    <p>\n",
    "        {{ form.submit() }}\n",
    "    </p>\n",
    "</form>\n",
    "{% endblock %}\n",
    "\n"
   ]
  },
  {
   "cell_type": "markdown",
   "id": "3f05af2d",
   "metadata": {},
   "source": [
    "register.html"
   ]
  },
  {
   "cell_type": "code",
   "execution_count": null,
   "id": "020a2e45",
   "metadata": {
    "vscode": {
     "languageId": "html"
    }
   },
   "outputs": [],
   "source": [
    "{% extends 'base.html' %}\n",
    "\n",
    "{% block content %}\n",
    "  <h2>Rejestracja</h2>\n",
    "  <form method=\"POST\">\n",
    "    {{ form.hidden_tag() }}\n",
    "    <div>\n",
    "      {{ form.username.label }}<br>\n",
    "      {{ form.username(size=32) }}\n",
    "    </div>\n",
    "    <div>\n",
    "      {{ form.password.label }}<br>\n",
    "      {{ form.password(size=32) }}\n",
    "    </div>\n",
    "    <div>\n",
    "      {{ form.submit() }}\n",
    "    </div>\n",
    "  </form>\n",
    "{% endblock %}\n"
   ]
  },
  {
   "cell_type": "markdown",
   "id": "5bcacd0e",
   "metadata": {},
   "source": [
    "__init__.py"
   ]
  },
  {
   "cell_type": "code",
   "execution_count": null,
   "id": "c523e520",
   "metadata": {},
   "outputs": [],
   "source": [
    "from flask import Flask\n",
    "from flask_sqlalchemy import SQLAlchemy\n",
    "from flask_login import LoginManager\n",
    "\n",
    "db = SQLAlchemy()\n",
    "login_manager = LoginManager()\n",
    "\n",
    "def create_app():\n",
    "    app = Flask(__name__)\n",
    "    app.config['SECRET_KEY'] = 'a8b0f5a2d9e641fa8e0c324ef891e404'\n",
    "    app.config['SQLALCHEMY_DATABASE_URI'] = 'sqlite:///database.db'\n",
    "\n",
    "    db.init_app(app)\n",
    "    login_manager.init_app(app)\n",
    "    login_manager.login_view = 'login'\n",
    "\n",
    "    from .routes import main\n",
    "    app.register_blueprint(main)\n",
    "\n",
    "    with app.app_context():\n",
    "        db.create_all()\n",
    "\n",
    "    return app\n"
   ]
  },
  {
   "cell_type": "markdown",
   "id": "5ef6f978",
   "metadata": {},
   "source": [
    "analysis.py"
   ]
  },
  {
   "cell_type": "code",
   "execution_count": null,
   "id": "ec708bfc",
   "metadata": {},
   "outputs": [],
   "source": [
    "import os\n",
    "import pandas as pd\n",
    "import matplotlib\n",
    "matplotlib.use('Agg')  \n",
    "import matplotlib.pyplot as plt\n",
    "\n",
    "def generate_analysis_plot():\n",
    "\n",
    "    static_folder = os.path.join(os.path.dirname(__file__), 'static')\n",
    "    os.makedirs(static_folder, exist_ok=True)\n",
    "    plot_path = os.path.join(static_folder, 'plot.png')\n",
    "\n",
    "    data = {\n",
    "        'Rok': [2015, 2016, 2017, 2018, 2019, 2020],\n",
    "        'Liczba ludności': [38400, 38500, 38450, 38300, 38200, 38100]\n",
    "    }\n",
    "    df = pd.DataFrame(data)\n",
    "\n",
    "    # Tworzenie wykresu\n",
    "    plt.figure(figsize=(6, 4))\n",
    "    plt.plot(df['Rok'], df['Liczba ludności'], marker='o')\n",
    "    plt.title('Liczba ludności w Polsce (2015–2020)')\n",
    "    plt.xlabel('Rok')\n",
    "    plt.ylabel('Liczba ludności (tys.)')\n",
    "    plt.grid(True)\n",
    "    plt.tight_layout()\n",
    "    plt.savefig(plot_path)\n",
    "    plt.close()\n",
    "\n",
    "def generate_forecast_plot():\n",
    "    plot_path = os.path.join(os.path.dirname(__file__), 'static', 'forecast.png')\n",
    "\n",
    "    data = {\n",
    "        'Rok': [2023, 2030, 2040, 2050, 2060],\n",
    "        '0–17': [18, 17, 16, 15, 14],\n",
    "        '18–64': [63, 60, 56, 53, 51],\n",
    "        '65+': [19, 23, 28, 32, 35]\n",
    "    }\n",
    "    df = pd.DataFrame(data)\n",
    "\n",
    "    plt.figure(figsize=(6, 4))\n",
    "    plt.stackplot(df['Rok'], df['0–17'], df['18–64'], df['65+'],\n",
    "                  labels=['0–17', '18–64', '65+'], colors=['#90caf9', '#a5d6a7', '#ffcc80'])\n",
    "    plt.title('Prognoza struktury wiekowej ludności (2023–2060)')\n",
    "    plt.xlabel('Rok')\n",
    "    plt.ylabel('Udział procentowy (%)')\n",
    "    plt.legend(loc='upper left')\n",
    "    plt.tight_layout()\n",
    "    plt.savefig(plot_path)\n",
    "    plt.close()"
   ]
  },
  {
   "cell_type": "markdown",
   "id": "73c24d10",
   "metadata": {},
   "source": [
    "forms.py"
   ]
  },
  {
   "cell_type": "code",
   "execution_count": null,
   "id": "6bcaa257",
   "metadata": {},
   "outputs": [],
   "source": [
    "from flask_wtf import FlaskForm\n",
    "from wtforms import StringField, PasswordField, SubmitField\n",
    "from wtforms.validators import InputRequired, Length\n",
    "\n",
    "class RegisterForm(FlaskForm):\n",
    "    username = StringField('Username', validators=[InputRequired(), Length(min=4, max=15)])\n",
    "    password = PasswordField('Password', validators=[InputRequired(), Length(min=4, max=80)])\n",
    "    submit = SubmitField('Register') \n",
    "\n",
    "class LoginForm(FlaskForm):\n",
    "    username = StringField('Username', validators=[InputRequired(), Length(min=4, max=15)])\n",
    "    password = PasswordField('Password', validators=[InputRequired(), Length(min=4, max=80)])\n",
    "    submit = SubmitField('Login')  \n"
   ]
  },
  {
   "cell_type": "markdown",
   "id": "840fd3f3",
   "metadata": {},
   "source": [
    "models.py"
   ]
  },
  {
   "cell_type": "code",
   "execution_count": null,
   "id": "9d561534",
   "metadata": {},
   "outputs": [],
   "source": [
    "from . import db\n",
    "from flask_login import UserMixin\n",
    "\n",
    "class User(db.Model, UserMixin):\n",
    "    id = db.Column(db.Integer, primary_key=True)\n",
    "    username = db.Column(db.String(150), unique=True, nullable=False)\n",
    "    password = db.Column(db.String(150), nullable=False)\n"
   ]
  },
  {
   "cell_type": "markdown",
   "id": "643bcc44",
   "metadata": {},
   "source": [
    "routes.py"
   ]
  },
  {
   "cell_type": "code",
   "execution_count": null,
   "id": "ef57ace5",
   "metadata": {},
   "outputs": [],
   "source": [
    "from flask import Blueprint, render_template, redirect, url_for, request\n",
    "from .forms import RegisterForm, LoginForm\n",
    "from .models import User\n",
    "from . import db\n",
    "from flask_login import login_user, logout_user, login_required, current_user\n",
    "from werkzeug.security import generate_password_hash, check_password_hash\n",
    "from .analysis import generate_analysis_plot, generate_forecast_plot\n",
    "from flask_login import LoginManager\n",
    "\n",
    "main = Blueprint('main', __name__)\n",
    "\n",
    "from . import login_manager\n",
    "\n",
    "@login_manager.user_loader\n",
    "def load_user(user_id):\n",
    "    return User.query.get(int(user_id))\n",
    "\n",
    "@main.route('/')\n",
    "def index():\n",
    "    return redirect(url_for('main.login'))\n",
    "\n",
    "@main.route('/register', methods=['GET', 'POST'])\n",
    "def register():\n",
    "    form = RegisterForm()\n",
    "    if form.validate_on_submit():\n",
    "        hashed_pw = generate_password_hash(form.password.data, method='pbkdf2:sha256')\n",
    "        new_user = User(username=form.username.data, password=hashed_pw)\n",
    "        db.session.add(new_user)\n",
    "        db.session.commit()\n",
    "        return redirect(url_for('main.login'))\n",
    "    return render_template('register.html', form=form)\n",
    "\n",
    "@main.route('/login', methods=['GET', 'POST'])\n",
    "def login():\n",
    "    form = LoginForm()\n",
    "    if form.validate_on_submit():\n",
    "        user = User.query.filter_by(username=form.username.data).first()\n",
    "        if user and check_password_hash(user.password, form.password.data):\n",
    "            login_user(user)\n",
    "            return redirect(url_for('main.dashboard'))\n",
    "    return render_template('login.html', form=form)\n",
    "\n",
    "@main.route('/dashboard')\n",
    "@login_required\n",
    "def dashboard():\n",
    "    generate_analysis_plot()\n",
    "    generate_forecast_plot()\n",
    "    return render_template('dashboard.html', name=current_user.username)\n",
    "\n",
    "@main.route('/logout')\n",
    "@login_required\n",
    "def logout():\n",
    "    logout_user()\n",
    "    return redirect(url_for('main.login'))\n",
    "\n"
   ]
  },
  {
   "cell_type": "markdown",
   "id": "a657042e",
   "metadata": {},
   "source": [
    "run.py"
   ]
  },
  {
   "cell_type": "code",
   "execution_count": null,
   "id": "fb346dd4",
   "metadata": {},
   "outputs": [],
   "source": [
    "from app import create_app\n",
    "\n",
    "app = create_app()\n",
    "\n",
    "if __name__ == '__main__':\n",
    "    app.run(debug=True)\n"
   ]
  }
 ],
 "metadata": {
  "language_info": {
   "name": "python"
  }
 },
 "nbformat": 4,
 "nbformat_minor": 5
}
